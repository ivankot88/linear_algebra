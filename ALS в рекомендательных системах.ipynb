{
 "cells": [
  {
   "cell_type": "markdown",
   "metadata": {},
   "source": [
    "## Использование ALS для построения рекомендательной модели "
   ]
  },
  {
   "cell_type": "markdown",
   "metadata": {},
   "source": [
    "В этой задаче мы построим простую рекомендательную модель на основе малоранговых приближений. "
   ]
  },
  {
   "cell_type": "code",
   "execution_count": 27,
   "metadata": {},
   "outputs": [],
   "source": [
    "import numpy as np\n",
    "import matplotlib.pyplot as plt\n",
    "import scipy as sp\n",
    "%matplotlib inline"
   ]
  },
  {
   "cell_type": "markdown",
   "metadata": {},
   "source": [
    "### Подготовка датасета\n",
    "Загрузите датасет movielens10m с [grouplens.org](https://grouplens.org/datasets/movielens/10m/) и положите архив в папку `data`. Нас будет интересовать файл `ratings.dat`, в котором собраны оценки пользователями различных фильмов с сервиса movielens.org. Вытащим этот файл из архива. Как можно узнать из соответствующей [странички](http://files.grouplens.org/datasets/movielens/ml-10m-README.html#file_desc), этот файл имеет формат `UserID::MovieID::Rating::Timestamp`. Сразу позаботимся, чтобы id пользователей и фильмов начинались с нуля (в самом файле индексация с единицы)."
   ]
  },
  {
   "cell_type": "code",
   "execution_count": 28,
   "metadata": {
    "scrolled": true
   },
   "outputs": [],
   "source": [
    "import zipfile\n",
    "user_ids = []\n",
    "movie_ids = []\n",
    "ratings = []\n",
    "with zipfile.ZipFile('data/ml-10m.zip') as archive:\n",
    "    with archive.open('ml-10M100K/ratings.dat') as f:\n",
    "        for l in f:\n",
    "            user, movie, rating, _ = l.split(b'::')\n",
    "            user_ids.append(int(user) - 1)\n",
    "            movie_ids.append(int(movie) - 1)\n",
    "            ratings.append(float(rating))"
   ]
  },
  {
   "cell_type": "markdown",
   "metadata": {},
   "source": [
    "Составим матрицу рейтингов $A_{u,m}$, индексируемую номером пользователем и номером фильма.\n",
    "Для простоты мы будем делить отзывы только на положительные (`Rating >= 4` &mdash; $A_{u,m}=1$) и отрицательные (`Rating < 4` &mdash; $A_{u,m} = 0$), таким образом, матрица у нас получится состоящей только из нулей и единиц.\n",
    "Обратите внимание, что матрица будет разреженной, так как средний пользователь оценил относительно мало фильмов. Поэтому мы будем пользоваться библиотекой `scipy.sparse`. Хранить матрицу мы будем в формате [CSR](https://en.wikipedia.org/wiki/Sparse_matrix#Compressed_sparse_row_(CSR,_CRS_or_Yale_format))."
   ]
  },
  {
   "cell_type": "code",
   "execution_count": 29,
   "metadata": {
    "scrolled": true
   },
   "outputs": [
    {
     "name": "stdout",
     "output_type": "stream",
     "text": [
      "Shape: (71567, 65133)\n",
      "Ratio of nonzero elements: 0.0010738646228571796\n"
     ]
    }
   ],
   "source": [
    "from scipy.sparse import csr_matrix\n",
    "A = csr_matrix((np.array(ratings) >= 4, (user_ids, movie_ids)), dtype=np.float32)\n",
    "A.eliminate_zeros()\n",
    "print(\"Shape:\", A.shape)\n",
    "print(\"Ratio of nonzero elements:\", A.nnz / (A.shape[0] * A.shape[1]))"
   ]
  },
  {
   "cell_type": "markdown",
   "metadata": {},
   "source": [
    "Отделим некоторое количество пользователей для последующей проверки. Используем стандартное разбиение train/test 80/20."
   ]
  },
  {
   "cell_type": "code",
   "execution_count": 30,
   "metadata": {},
   "outputs": [],
   "source": [
    "n_users, n_movies = A.shape\n",
    "n_test = int(n_users * 0.2)\n",
    "n_train = n_users - n_test\n",
    "idx = np.arange(n_users)\n",
    "np.random.shuffle(idx)\n",
    "test_idx, train_idx = idx[:n_test], idx[n_test:]\n",
    "A_test, A_train = A[test_idx,:], A[train_idx,:]"
   ]
  },
  {
   "cell_type": "markdown",
   "metadata": {},
   "source": [
    "### a. Вычисление ALS-функционала и расстояния между подпространствами\n",
    "\n",
    "  1.  Напомним, что в методе ALS решается задача минимизации функционала $\\|A - UV^\\top\\|_F$ по всем $U$ и $V$ заданного ранга $r$. В самом алгоритме вместо двух матриц $U$ и $V$ естественным образом возникает третья матрица $S \\in \\mathbb{R}^{r \\times r}$, так что текущее приближение выглядит как $USV^\\top$. Поэтому первым делом вам нужно будет написать функцию `als_functional` для вычисления оптимизируемого функционала $\\|A - USV^\\top\\|_F$ для заданных $A$, $U$, $S$, $V^\\top$ (матрица $S$ не обязана быть диагональной). Заметьте, что прямое вычисление этой нормы &mdash; очень трудоёмкая задача, ведь разность будет плотной матрицей. Для того, чтобы эффективно вычислить норму разности, распишите $\\|A - USV^\\top\\|_F^2$ через скалярное произведение $(X,Y)_F = \\mathrm{Tr}\\,(X^\\top Y)$, выполните алгебраические преобразования и покажите, как эффективно вычислить каждый член в полученном выражении. Имеется в виду, что ни на каком этапе вы не должны явно формировать плотные матрицы размеров `A.shape` (хотя numpy, скорее всего, и откажется аллоцировать 37 ГБ под такой массив). Для вычисления фробениусовой нормы разреженной матрицы используйте `norm` из `scipy.sparse.linalg`.\n",
    "  \n",
    "  **Замечание**: не используйте циклы по ненулевым элементам разреженной матрицы $A$. Убедитесь, что в ваши формулы входит только умножение на матрицы $A$ или $A^\\top$, на которые можно умножать посредством @. "
   ]
  },
  {
   "cell_type": "markdown",
   "metadata": {},
   "source": [
    "$$\n",
    "\\|A - USV^T\\| = (A-USV^T, A-USV^T)_F = (A,A)_F - 2(USV^T,A)_F + (USV^T, USV^T)_F = \\\\ = \\|A\\|^2 - 2Tr(A^TUSV^T) + Tr(VS^TU^TUSV^T) = \\|A\\|^2 - 2Tr(SV^TA^TU) + Tr(S^TU^TUSVV^T)t \\text{ (по свойству перестановки следа)}\n",
    "$$"
   ]
  },
  {
   "cell_type": "code",
   "execution_count": 80,
   "metadata": {},
   "outputs": [],
   "source": [
    "def als_functional(A, A_norm, U, S, VT):\n",
    "    \"\"\"\n",
    "        Input\n",
    "            A: sparse 2D array\n",
    "            A_norm: Frobenius norm of A\n",
    "            U, S, VT: 2D arrays such that U @ S @ VT approximates A\n",
    "        Output\n",
    "            ||A - USVT||_F\n",
    "    \"\"\"\n",
    "    \n",
    "    A_A = A_norm ** 2\n",
    "    SVTATU = np.trace(S @ VT @ A.T @ U)\n",
    "    VTVSTUTUS = np.trace(S.T @ U.T @ U @ S @ VT @ VT.T)\n",
    "    \n",
    "    return A_A - 2 *  SVTATU + VTVSTUTUS\n",
    "    \n",
    "    raise NotImplementedError()"
   ]
  },
  {
   "cell_type": "markdown",
   "metadata": {},
   "source": [
    "  2. Ещё одной метрикой сходимости ALS-процесса, помимо стабилизации самого функционала, может служить так называемое расстояние между подпространствами. Расстоянием между подпространствами $L_1 \\subset \\mathbb{R}^m$ и $L_2 \\subset \\mathbb{R}^m$ будем называть число $\\|P(L_1) - P(L_2)\\|_2$, где $P(L_i)$ &mdash; ортопроектор на $L_i$. Опишите алгоритм вычисления расстояния между двумя подпространствами $\\mathrm{Im}(U_1)$ и $\\mathrm{Im}(U_2)$ для заданных матриц $U_1, U_2 \\in \\mathbb{R}^{m \\times r}$ с ортонормированными столбцами (т.е. $U_i^T U_i = I$). Алгоритм должен иметь сложность $O(mr^2)$. **Подсказка.** Воспользуйтесь фактом, что ортопроекторы являются матрицами малого ранга $r$, и техникой малоранговой арифметики, описанной на соответствующих лекции и семинаре."
   ]
  },
  {
   "cell_type": "markdown",
   "metadata": {},
   "source": [
    "У $U_1$, $U_2$ ортонормированные столбцы  $\\Rightarrow $ ортопроектор на $Im(U_1), Im(U_2)$ будет иметь вид:\n",
    "\n",
    "$$\n",
    "P_U = U(U^TU)^{-1}U^T = UU^T\n",
    "$$\n",
    "\n",
    "Найдём $\\|P(L_1) - P(L_2)\\|_2$:\n",
    "\n",
    "$$\n",
    "\\|P(U_1) - P(U_2)\\|_2 = U_1U_1^T - U_2U_2^T = [U_1 \\; -U_2][U_1U_2]^* = [U_1\\; -U_2][U_1U_2]^T \\in \\mathbb{R}^{m\\times (r_1+r_2)}\n",
    "$$ \n",
    "\n",
    "Далее вычислим $QR$ разложение для $[U_1  \\;-U_2]$ и для $[U_1  \\;-U_2]$ за $O(m4r^2) \\simeq O(mr^2)$\n",
    "\n",
    "Затем, вычислим разложение SVD от матрицы $R_1R_2^*$. Поскольку ранг матриц $R_1,R_2 = r$ - сложность SVD составит $O(r^3)$. \n",
    "\n",
    "Так как $r \\leqslant m \\Rightarrow O(mr^2) + O(r^3) \\leqslant O(mr^2) $\n",
    "\n",
    "\n",
    "$\\|P(L_1) - P(L_2)\\|_2$ = $\\|U_RS_RV_R^T\\|_2$ = $S_R[0]$ *(помним из прошлой практической работы)*"
   ]
  },
  {
   "cell_type": "markdown",
   "metadata": {},
   "source": [
    "  3. Напишите функцию `dist_between_subspaces`, принимающую на вход матрицы $U_1, U_2 \\in \\mathbb{R}^{m\\times r}$ с ортонормированными столбцами, и возвращающую расстояние между $\\mathrm{Im}(U_1)$ и $\\mathrm{Im}(U_2)$. Сложность алгоритма должна быть $O(mr^2)$."
   ]
  },
  {
   "cell_type": "code",
   "execution_count": 38,
   "metadata": {},
   "outputs": [],
   "source": [
    "def dist_between_subspaces(U1, U2):\n",
    "    \"\"\"\n",
    "        Input\n",
    "            U1, U2: matrices with orthonormal columns\n",
    "        Output\n",
    "            Distance between Im(U1) and Im(U2)\n",
    "    \"\"\"\n",
    "    Q_u1, R_u1 = np.linalg.qr(np.concatenate((U1, -U2), axis = 1))\n",
    "    Q_u2, R_u2 = np.linalg.qr(np.concatenate((U1, U2), axis = 1))\n",
    "    U,S,VT = np.linalg.svd(R_u1 @ R_u2.T, full_matrices=False)\n",
    "    \n",
    "    return S[0]\n",
    "    \n",
    "    raise NotImplementedError()"
   ]
  },
  {
   "cell_type": "markdown",
   "metadata": {},
   "source": [
    "### b. Метод ALS\n",
    "Реализуйте метод ALS (alternating least squares) с ортогонализацией (см. лекции). При указании `debug=True` печатайте номер текущей итерации и последнее расстояние между подпространствами, а также любую дополнительную интересную вам информацию. Вам будет необходимо вернуть три матрицы $U$, $S$, $V^\\top$, а также список расстояний между $\\mathrm{Im}(U_0)$ и $\\mathrm{Im}(U_1)$, $...$, $\\mathrm{Im}(U_{k-1})$ и $\\mathrm{Im}(U_k)$. Матрицы $S$ не обязана быть диагональной."
   ]
  },
  {
   "cell_type": "code",
   "execution_count": 68,
   "metadata": {},
   "outputs": [],
   "source": [
    "from scipy.sparse.linalg import norm as sparse_norm\n",
    "\n",
    "def ALS(A, rank, tolerance=1e-2, debug=False):\n",
    "    \"\"\"\n",
    "        Input\n",
    "            A: 2D m x n numpy array\n",
    "            rank: required rank of the approximation\n",
    "            tolerance: stop when this distance between Im(U_k) and Im(U_{k+1}) is reached\n",
    "            debug: print debug information on each iteration\n",
    "            \n",
    "        Output\n",
    "            U: m x rank numpy array with orthogonal columns\n",
    "            S: rank x rank numpy array\n",
    "            VT: rank x n numpy array with orthogonal rows\n",
    "            dists: list of distances between Im(U_k) and Im(U_{k+1})\n",
    "    \"\"\"\n",
    "    U = np.random.rand(A.shape[0], rank)\n",
    "    V = np.random.rand(rank, A.shape[1])\n",
    "    dists = []\n",
    "    \n",
    "    U_new = A @ V.T\n",
    "    V_new = A.T @ U\n",
    "    Q_1, R_1 = np.linalg.qr(U_new)\n",
    "    Q_2, R_2 = np.linalg.qr(V_new)\n",
    "    dists.append(dist_between_subspaces(U, Q_1))\n",
    "    \n",
    "    iteration = 0\n",
    "    \n",
    "    while dists[iteration] > tolerance:\n",
    "        if debug:\n",
    "            print('Iteration: {}, Distance: {}'.format(iteration, dists[iteration]))\n",
    "        \n",
    "        U = Q_1\n",
    "        V = Q_2.T\n",
    "        Q_1, R_1 = np.linalg.qr(A @ V.T)\n",
    "        Q_2, R_2 = np.linalg.qr(A.T @ Q_1)\n",
    "        \n",
    "        dists.append(dist_between_subspaces(U, Q_1))\n",
    "        \n",
    "        iteration += 1\n",
    "        \n",
    "    if debug:\n",
    "        print('Iteration: {}, Distance: {}'.format(iteration, dists[iteration]))\n",
    "\n",
    "    return Q_1, R_2.T, Q_2.T, dists\n",
    "\n",
    "    raise NotImplementedError()"
   ]
  },
  {
   "cell_type": "markdown",
   "metadata": {},
   "source": [
    "Запустим метод на матрице `A_train` и посмотрим на убывание расстояния между соседними подпространствами от номера итерации."
   ]
  },
  {
   "cell_type": "code",
   "execution_count": 69,
   "metadata": {},
   "outputs": [
    {
     "name": "stdout",
     "output_type": "stream",
     "text": [
      "Iteration: 0, Distance: 434499.99349617556\n",
      "Iteration: 1, Distance: 0.9999901219608475\n",
      "Iteration: 2, Distance: 0.6419731034566989\n",
      "Iteration: 3, Distance: 0.41453924690726146\n",
      "Iteration: 4, Distance: 0.29309698171355464\n",
      "Iteration: 5, Distance: 0.24036084611733746\n",
      "Iteration: 6, Distance: 0.1888803451659848\n",
      "Iteration: 7, Distance: 0.14973622261928243\n",
      "Iteration: 8, Distance: 0.12710731360628275\n",
      "Iteration: 9, Distance: 0.11681566510522783\n",
      "Iteration: 10, Distance: 0.10784190326898681\n",
      "Iteration: 11, Distance: 0.09782656736010037\n"
     ]
    },
    {
     "data": {
      "image/png": "[encoded data removed]",
      "text/plain": [
       "<Figure size 432x288 with 1 Axes>"
      ]
     },
     "metadata": {
      "needs_background": "light"
     },
     "output_type": "display_data"
    }
   ],
   "source": [
    "rank = 30\n",
    "U_als, S_als, VT_als, dist_als = ALS(A_train, rank, 0.1, debug=True)\n",
    "plt.plot(dist_als)\n",
    "_ = plt.semilogy()"
   ]
  },
  {
   "cell_type": "markdown",
   "metadata": {},
   "source": [
    "### c. Сравнение с рандомизированным SVD и разреженным SVD\n",
    "\n",
    "Примените рандомизированное SVD из sklearn, а также разреженное SVD из scipy (используйте тот же ранг 30, что и для ALS). Сравните все три результата по значению функционала."
   ]
  },
  {
   "cell_type": "code",
   "execution_count": 81,
   "metadata": {},
   "outputs": [
    {
     "name": "stdout",
     "output_type": "stream",
     "text": [
      "ALS: 2677829.7149890484\n",
      "Random: 2676990.3054319024\n",
      "Sparsed: 2676642.6804319024\n"
     ]
    }
   ],
   "source": [
    "from sklearn.utils.extmath import randomized_svd\n",
    "from scipy.sparse.linalg import svds\n",
    "\n",
    "A_norm = sparse_norm(A_train)\n",
    " \n",
    "U_0, S_0, VT_0 = randomized_svd(A_train, n_components = 30)\n",
    "U_1, S_1, VT_1 = svds(A_train, k=30)\n",
    "S_0 = np.diag(S_0)\n",
    "S_1 = np.diag(S_1)\n",
    "\n",
    "print('ALS: {}'.format(als_functional(A_train, A_norm, U_als, S_als, VT_als)))\n",
    "print('Random: {}'.format(als_functional(A_train, A_norm, U_0, S_0, VT_0)))\n",
    "print('Sparsed: {}'.format(als_functional(A_train, A_norm, U_1, S_1, VT_1)))\n",
    "# TO BE FILLED"
   ]
  },
  {
   "cell_type": "markdown",
   "metadata": {},
   "source": [
    "### d.  Построение рекомендаций\n",
    "Научимся рекомендовать пользователям из тестовой группы фильмы на основе части их оценок. Напишем функцию `recommend`, которая будет принимать матрицу $V^\\top$ из нашей модели, матрицу `(user_id, movie_id) -> binary rating` (то есть того же формата, что и наша основная матрица `A`), а также число `n_recs` &mdash; количество фильмов, которые мы хотим порекомендовать. Возвращать функция будет top-`n_recs` рекомендаций, то есть `n_recs` фильмов, которые могут пользователю понравиться, в порядке убывания предсказанной привлекательности.\n",
    "\n",
    "Чтобы построить рекомендацию, необходимо ортогонально спроецировать вектор, соответствующий новому пользователю (про которого мы знаем часть оценок), на пространство $L$, образуемое строками матрицы $V^\\top$. Иными словами, мы должны взять ближайший вектор из $L$. Он будет содержать предсказанные нашей моделью рейтинги. Дальше дело техники :) Но не забудьте, что `known_ratings` содержит векторы, соответствующие не одному пользователю, а батчу из `batch_size` пользователей. Хотя и (слава numpy) код остаётся почти дословно такой же."
   ]
  },
  {
   "cell_type": "code",
   "execution_count": 134,
   "metadata": {},
   "outputs": [],
   "source": [
    "def recommend(VT, known_ratings, n_recs):\n",
    "    \"\"\"\n",
    "        Input\n",
    "            VT: 2D numpy array\n",
    "            known_rating: sparse batch_size x n_movies array\n",
    "            n_recs: requested number of recommendations\n",
    "            \n",
    "        Output\n",
    "            recs: batch_size x n_recs array of movies to recommend, with descending predicted rating\n",
    "    \"\"\"\n",
    "    users = list()\n",
    "    for user in range(known_ratings.shape[0]):\n",
    "        user_rating = known_ratings[user]\n",
    "        predict = VT.T @ (VT @ user_rating.T) # столбец рекоментаций\n",
    "        movies_dict = [(predict[i][0], i) for i in range(known_ratings.shape[1])]\n",
    "        movies_dict.sort(key=lambda x: x[0])\n",
    "        user_recs = list()\n",
    "        for i in range(known_ratings.shape[1]-1, known_ratings.shape[1] - 1 - n_recs, -1):\n",
    "            user_recs.append(movies_dict[i][1])\n",
    "#         print(user_recs)\n",
    "        users.append(user_recs)\n",
    "    \n",
    "    return np.array(users)\n",
    "    raise NotImplementedError()"
   ]
  },
  {
   "cell_type": "markdown",
   "metadata": {},
   "source": [
    "Для проверки нашей модели для каждого пользователя из тестовой выборки оценим так называемый **hit rate**. Для этого выбросим одну из его оценок, вызовем функцию `recommend` и посмотрим, попал ли выкинутый фильм в подборку. Если попал &mdash; это hit, иначе не hit. Для того, чтобы эффективно проделать этот эксперимент на всех тестовых данных, сделаем следующее: разобьём тестовую матрицу на батчи по 500 пользователей и будем предсказывать сразу для целого батча. Вычислим вектор размера `n_test`, где для каждого пользователя указано, на каком месте в рекомендованной подборке оказался скрытый фильм (или число `n_recs`, если скрытого фильма не нашлось среди top-n  рекомендаций)."
   ]
  },
  {
   "cell_type": "code",
   "execution_count": 83,
   "metadata": {},
   "outputs": [],
   "source": [
    "from scipy.sparse import find\n",
    "\n",
    "def evaluate_model(VT, A_test, n_recs, batch_size=500):\n",
    "    \"\"\"\n",
    "        Input\n",
    "            VT: 2D numpy array representing the rating model\n",
    "            A_test: sparse n_test x n_movies array corresponding to new users\n",
    "            n_recs: requested number of recommendations\n",
    "            batch_size: number of users to build recommendations for in a single call to recommend\n",
    "\n",
    "        Output\n",
    "            hit_idx: list of n_test ints: place of secret movie \n",
    "                     in top-n_recs recommendations (or n_recs if it is missing)\n",
    "    \"\"\"\n",
    "    secrets = []\n",
    "    nonempty_users = []\n",
    "    A_test = A_test.copy()\n",
    "    for user in range(A_test.shape[0]):\n",
    "        _, good, _ = find(A_test[user,:])\n",
    "        if len(good) == 0:\n",
    "            continue\n",
    "        nonempty_users.append(user)\n",
    "        secret = np.random.choice(good, 1)[0]\n",
    "        A_test[user, secret] = 0\n",
    "        secrets.append(secret)\n",
    "    hit_idx = []\n",
    "    for i in range(0, len(nonempty_users), batch_size):\n",
    "        # Build recomendations for a batch.\n",
    "        recommendations = recommend(VT, A_test[nonempty_users[i:i + batch_size], :], n_recs + 1)\n",
    "        # Place secret in the last column so that the following .argmax finds it.\n",
    "        recommendations[:,-1] = secrets[i: i + batch_size]\n",
    "        # Find secret among the recommendations and place its index into batch_hit_idx.\n",
    "        batch_hit_idx = (recommendations == np.array([secrets[i:i + batch_size]]).T).argmax(1)\n",
    "        hit_idx += batch_hit_idx.tolist()\n",
    "    return hit_idx"
   ]
  },
  {
   "cell_type": "markdown",
   "metadata": {},
   "source": [
    "Научимся вычислять hit rate для данной модели и заданного количества top-n рекомендаций. Для этого напишем функцию `get_hit_rates`, которая будет принимать $V^\\top$ из нашей модели, вектора оценок для новых пользователей `A_test` и список натуральных чисел `n_recs`. Для каждого из этих чисел необходимо посчитать средний hit rate по всем пользователям из `A_test`, то есть, например, для `n_recs == [5, 10, 20]` нужно вернуть список средних хитрейтов для top-5, top-10 и top-20. **Обратите внимание:** вызвать функцию `evaluate_model` нужно только один раз."
   ]
  },
  {
   "cell_type": "code",
   "execution_count": 128,
   "metadata": {},
   "outputs": [],
   "source": [
    "def get_hit_rates(VT, A_test, n_recs):\n",
    "    \"\"\"\n",
    "        Input\n",
    "            VT: 2D numpy array representing the rating model\n",
    "            A_test: sparse n_test x n_movies array corresponding to new users \n",
    "            n_recs: list of ints: number of top recomendations to evaluate hit rate for\n",
    "        Output\n",
    "            hit_rates: list of float: hit rate for each element of n_recs\n",
    "    \n",
    "    \"\"\"\n",
    "    \n",
    "    hit_rates = list()\n",
    "    recs = evaluate_model(VT, A_test, max(n_recs))\n",
    "    \n",
    "    for i in range(len(n_recs)):\n",
    "        current_top = n_recs[i]\n",
    "        \n",
    "        liked = 0\n",
    "        for rec in recs:\n",
    "            if rec < current_top:\n",
    "                liked += 1\n",
    "        \n",
    "        hit_rates.append(liked / len(recs) * 100)\n",
    "    \n",
    "    return hit_rates\n",
    "    raise NotImplementedError()"
   ]
  },
  {
   "cell_type": "markdown",
   "metadata": {},
   "source": [
    "Проверьте себя: вычислите хитрейт на top-10 рекомендаций для Sparse SVD ранга 30. Чтобы вычисления рекомендаций были побыстрее, используйте не всю матрицу `A_test`, а, например, первые 1000 строк. Хитрейт должен получится в районе 12-15%. Самое время подебажить своё решение, если числа сильно расходятся."
   ]
  },
  {
   "cell_type": "code",
   "execution_count": 135,
   "metadata": {},
   "outputs": [
    {
     "data": {
      "text/plain": [
       "[14.492753623188406]"
      ]
     },
     "execution_count": 135,
     "metadata": {},
     "output_type": "execute_result"
    }
   ],
   "source": [
    "U, S, VT = svds(A_test[:1000], k = 30)\n",
    "get_hit_rates(VT, A_test[:1000], [10])"
   ]
  },
  {
   "cell_type": "markdown",
   "metadata": {},
   "source": [
    "Теперь можно построить графики зависимости hit rate от количества рекомендаций, а также от ранга модели. Сравним результаты, которые дают три алгоритма: ALS, Sparse SVD и рандомизированный SVD."
   ]
  },
  {
   "cell_type": "code",
   "execution_count": 138,
   "metadata": {},
   "outputs": [
    {
     "data": {
      "image/png": "[encoded data removed]",
      "text/plain": [
       "<Figure size 1440x288 with 3 Axes>"
      ]
     },
     "metadata": {
      "needs_background": "light"
     },
     "output_type": "display_data"
    }
   ],
   "source": [
    "from scipy.sparse.linalg import svds\n",
    "from sklearn.utils.extmath import randomized_svd as rand_svd\n",
    "\n",
    "n_recs = list(range(5, 101, 5))\n",
    "\n",
    "plt.rcParams.update({'font.size': 14})\n",
    "_, (ax_svd, ax_als, ax_rand) = plt.subplots(1,3,figsize=(20, 4),sharey=True)\n",
    "\n",
    "ax_svd.set_title(\"SVD\")\n",
    "ax_svd.set_ylabel(\"Hit rate\")\n",
    "ax_als.set_title(\"ALS\")\n",
    "ax_rand.set_title(\"Rand SVD\")\n",
    "for rank in [5, 25, 50]:\n",
    "    _, _, VT_svd = svds(A_train, k=rank)\n",
    "    _, _, VT_als, _ = ALS(A_train, rank)\n",
    "    _, _, VT_rand = rand_svd(A_train, rank)\n",
    "    for VT, ax in zip([VT_svd, VT_als, VT_rand], [ax_svd, ax_als, ax_rand]):\n",
    "        ax.set_xlabel(\"Number of recomendations\")\n",
    "        hit_rates = get_hit_rates(VT, A_test[:1000,:], n_recs)\n",
    "        line, = ax.plot(n_recs, hit_rates)\n",
    "        line.set_label('rank = {}'.format(rank))\n",
    "        ax.legend()"
   ]
  },
  {
   "cell_type": "markdown",
   "metadata": {},
   "source": [
    "Какой ранг приближения оказался оптимальным для нашей модели в случае каждого алгоритма?"
   ]
  },
  {
   "cell_type": "markdown",
   "metadata": {},
   "source": [
    "Оптимальнее всего ранг 25, рейтинг рекомендаций выше всего"
   ]
  }
 ],
 "metadata": {
  "kernelspec": {
   "display_name": "Python 3",
   "language": "python",
   "name": "python3"
  },
  "language_info": {
   "codemirror_mode": {
    "name": "ipython",
    "version": 3
   },
   "file_extension": ".py",
   "mimetype": "text/x-python",
   "name": "python",
   "nbconvert_exporter": "python",
   "pygments_lexer": "ipython3",
   "version": "3.8.5"
  }
 },
 "nbformat": 4,
 "nbformat_minor": 2
}
